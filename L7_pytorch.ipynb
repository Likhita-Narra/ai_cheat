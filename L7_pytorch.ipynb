{
  "nbformat": 4,
  "nbformat_minor": 0,
  "metadata": {
    "colab": {
      "name": "L7_pytorch.ipynb",
      "provenance": [],
      "collapsed_sections": [],
      "authorship_tag": "ABX9TyMgD0IQQSdbh6J+99EQoqUA",
      "include_colab_link": true
    },
    "kernelspec": {
      "name": "python3",
      "display_name": "Python 3"
    },
    "accelerator": "GPU"
  },
  "cells": [
    {
      "cell_type": "markdown",
      "metadata": {
        "id": "view-in-github",
        "colab_type": "text"
      },
      "source": [
        "<a href=\"https://colab.research.google.com/github/hrshwrdhn/ai_cheat/blob/main/L7_pytorch.ipynb\" target=\"_parent\"><img src=\"https://colab.research.google.com/assets/colab-badge.svg\" alt=\"Open In Colab\"/></a>"
      ]
    },
    {
      "cell_type": "markdown",
      "metadata": {
        "id": "Q3KbPVNQSqOM"
      },
      "source": [
        "# Change Runtime Environment:\n",
        "Click the “Runtime” dropdown menu. Select “Change runtime type”. then \"GPU\""
      ]
    },
    {
      "cell_type": "markdown",
      "metadata": {
        "id": "-HADHmWETMZl"
      },
      "source": [
        "## To mount your google drive for code and file \n",
        "```\n",
        "from google.colab import drive \n",
        "drive.mount('/mydrive') \n",
        "```\n"
      ]
    },
    {
      "cell_type": "markdown",
      "metadata": {
        "id": "5T7cq_g3X3aj"
      },
      "source": [
        "#Tensor"
      ]
    },
    {
      "cell_type": "markdown",
      "metadata": {
        "id": "R2pY6IrkY4Wj"
      },
      "source": [
        "## import torch"
      ]
    },
    {
      "cell_type": "code",
      "metadata": {
        "id": "f9f8Wgd2Y0EC"
      },
      "source": [
        "import torch"
      ],
      "execution_count": null,
      "outputs": []
    },
    {
      "cell_type": "code",
      "metadata": {
        "colab": {
          "base_uri": "https://localhost:8080/"
        },
        "id": "tvnCdlfsTfmn",
        "outputId": "cb7301f2-4497-4ae4-96ff-750bee5e8925"
      },
      "source": [
        "t1 = torch.tensor([5 ])\n",
        "print(t1)\n",
        "print( type(t1))\n",
        "print(t1.shape)\n",
        "\n",
        "print(t1.dtype)"
      ],
      "execution_count": null,
      "outputs": [
        {
          "output_type": "stream",
          "text": [
            "tensor([5])\n",
            "<class 'torch.Tensor'>\n",
            "torch.Size([1])\n",
            "torch.int64\n"
          ],
          "name": "stdout"
        }
      ]
    },
    {
      "cell_type": "code",
      "metadata": {
        "colab": {
          "base_uri": "https://localhost:8080/"
        },
        "id": "JCeeNI__SjC_",
        "outputId": "4a13a3a8-23fd-4512-ab75-bdcb34e777b0"
      },
      "source": [
        "\n",
        "A = torch.tensor( 4)  # single number\n",
        "B =  torch.tensor([1., 2, 3, 4]) #array\n",
        "C= torch.tensor([[5., 6], \n",
        "                   [7, 8], \n",
        "                   [9, 10]]) # matrix 2d\n",
        "print(A)\n",
        "print(B)\n",
        "print(C)\n"
      ],
      "execution_count": null,
      "outputs": [
        {
          "output_type": "stream",
          "text": [
            "tensor([4.])\n",
            "tensor([1., 2., 3., 4.])\n",
            "tensor([[ 5.,  6.],\n",
            "        [ 7.,  8.],\n",
            "        [ 9., 10.]])\n"
          ],
          "name": "stdout"
        }
      ]
    },
    {
      "cell_type": "code",
      "metadata": {
        "colab": {
          "base_uri": "https://localhost:8080/"
        },
        "id": "Msr-z5pVSp_9",
        "outputId": "c5bdd4ad-a970-4d12-aa2b-3f35c8ab0f6a"
      },
      "source": [
        "D = torch.tensor([\n",
        "    [[11, 12, 13], \n",
        "     [13, 14, 15]], \n",
        "    [[15, 16, 17], \n",
        "     [17, 18, 19.]]])  # matrix 3d\n",
        "print(D)\n",
        "print(D.dtype)\n",
        "print(type(D))\n",
        "print(D.shape)"
      ],
      "execution_count": null,
      "outputs": [
        {
          "output_type": "stream",
          "text": [
            "tensor([[[11., 12., 13.],\n",
            "         [13., 14., 15.]],\n",
            "\n",
            "        [[15., 16., 17.],\n",
            "         [17., 18., 19.]]])\n",
            "torch.float32\n",
            "<class 'torch.Tensor'>\n",
            "torch.Size([2, 2, 3])\n"
          ],
          "name": "stdout"
        }
      ]
    },
    {
      "cell_type": "code",
      "metadata": {
        "colab": {
          "base_uri": "https://localhost:8080/",
          "height": 219
        },
        "id": "dGGQkmksayCP",
        "outputId": "d95ef7bb-6501-4f3d-f44b-a7d51dd4926b"
      },
      "source": [
        "# Matrix\n",
        "A1 = torch.tensor([[5., 6, 11], \n",
        "                   [7, 8], \n",
        "                   [9, 10]])\n",
        "print(A1)"
      ],
      "execution_count": null,
      "outputs": [
        {
          "output_type": "error",
          "ename": "ValueError",
          "evalue": "ignored",
          "traceback": [
            "\u001b[0;31m---------------------------------------------------------------------------\u001b[0m",
            "\u001b[0;31mValueError\u001b[0m                                Traceback (most recent call last)",
            "\u001b[0;32m<ipython-input-82-f0f20535086e>\u001b[0m in \u001b[0;36m<module>\u001b[0;34m()\u001b[0m\n\u001b[1;32m      2\u001b[0m A1 = torch.tensor([[5., 6, 11], \n\u001b[1;32m      3\u001b[0m                    \u001b[0;34m[\u001b[0m\u001b[0;36m7\u001b[0m\u001b[0;34m,\u001b[0m \u001b[0;36m8\u001b[0m\u001b[0;34m]\u001b[0m\u001b[0;34m,\u001b[0m\u001b[0;34m\u001b[0m\u001b[0;34m\u001b[0m\u001b[0m\n\u001b[0;32m----> 4\u001b[0;31m                    [9, 10]])\n\u001b[0m\u001b[1;32m      5\u001b[0m \u001b[0mprint\u001b[0m\u001b[0;34m(\u001b[0m\u001b[0mA1\u001b[0m\u001b[0;34m)\u001b[0m\u001b[0;34m\u001b[0m\u001b[0;34m\u001b[0m\u001b[0m\n",
            "\u001b[0;31mValueError\u001b[0m: expected sequence of length 3 at dim 1 (got 2)"
          ]
        }
      ]
    },
    {
      "cell_type": "markdown",
      "metadata": {
        "id": "KBTQrL3Hcgo-"
      },
      "source": [
        "A ValueError is thrown because the lengths of the rows [5., 6, 11] and [7, 8] don't match.\n"
      ]
    },
    {
      "cell_type": "code",
      "metadata": {
        "colab": {
          "base_uri": "https://localhost:8080/"
        },
        "id": "55Y7B4KZb6M8",
        "outputId": "a074789c-a99a-4bfd-b7a5-989375b3883e"
      },
      "source": [
        "print(D.shape)"
      ],
      "execution_count": null,
      "outputs": [
        {
          "output_type": "stream",
          "text": [
            "torch.Size([2, 2, 3])\n"
          ],
          "name": "stdout"
        }
      ]
    },
    {
      "cell_type": "code",
      "metadata": {
        "id": "7iijm_uVVTw4"
      },
      "source": [
        "import numpy as np\n",
        "a3dim  =  np.array([ [ [1,2,3], [1,2,3] ] , [   [2,3,4] ,[4,5,6]] ])\n",
        "a3dim.shape"
      ],
      "execution_count": null,
      "outputs": []
    },
    {
      "cell_type": "code",
      "metadata": {
        "id": "NHecOHvHVUdD"
      },
      "source": [
        ""
      ],
      "execution_count": null,
      "outputs": []
    },
    {
      "cell_type": "code",
      "metadata": {
        "id": "SWLecspMVUjP"
      },
      "source": [
        ""
      ],
      "execution_count": null,
      "outputs": []
    },
    {
      "cell_type": "markdown",
      "metadata": {
        "id": "VH_P1f1LiA1L"
      },
      "source": [
        "# Tensor operations and gradients"
      ]
    },
    {
      "cell_type": "code",
      "metadata": {
        "colab": {
          "base_uri": "https://localhost:8080/"
        },
        "id": "MrMYZB4fc0pE",
        "outputId": "fd3c7802-b9f1-4445-9784-ccc9a3d4b72a"
      },
      "source": [
        "# Create tensors.\n",
        "x = torch.tensor(3.)\n",
        "w = torch.tensor(4., requires_grad=True)  # need to calculate the gradient of\n",
        "b = torch.tensor(5., requires_grad=True)\n",
        "\n",
        "print(x)\n",
        "print(w)\n",
        "print(b)"
      ],
      "execution_count": null,
      "outputs": [
        {
          "output_type": "stream",
          "text": [
            "tensor(3.)\n",
            "tensor(4., requires_grad=True)\n",
            "tensor(5., requires_grad=True)\n"
          ],
          "name": "stdout"
        }
      ]
    },
    {
      "cell_type": "code",
      "metadata": {
        "id": "msVKS6fuiKgX"
      },
      "source": [
        "# Arithmetic operations\n",
        "y = w * x + b  \n",
        "# Compute derivatives\n",
        "y.backward()"
      ],
      "execution_count": null,
      "outputs": []
    },
    {
      "cell_type": "code",
      "metadata": {
        "colab": {
          "base_uri": "https://localhost:8080/"
        },
        "id": "JGgu09guik8S",
        "outputId": "8c47d317-49a4-462b-ed6b-24b2aa139073"
      },
      "source": [
        "print('dy/dx:', x.grad)\n",
        "print('dy/dw:', w.grad)\n",
        "print('dy/db:', b.grad)"
      ],
      "execution_count": null,
      "outputs": [
        {
          "output_type": "stream",
          "text": [
            "dy/dx: None\n",
            "dy/dw: tensor(3.)\n",
            "dy/db: tensor(1.)\n"
          ],
          "name": "stdout"
        }
      ]
    },
    {
      "cell_type": "markdown",
      "metadata": {
        "id": "QhIPrxePizZH"
      },
      "source": [
        "As expected, dy/dw has the same value as x, i.e., 3, and dy/db has the value 1. Note that x.grad is None because x doesn't have requires_grad set to True.\n",
        "\n",
        "The \"grad\" in w.grad is short for gradient, which is another term for derivative. The term gradient is primarily used while dealing with vectors and matrices"
      ]
    },
    {
      "cell_type": "markdown",
      "metadata": {
        "id": "CdUujn6Qm79K"
      },
      "source": [
        "# Tensor functions"
      ]
    },
    {
      "cell_type": "code",
      "metadata": {
        "colab": {
          "base_uri": "https://localhost:8080/"
        },
        "id": "XtLOSAPQio7f",
        "outputId": "c04373fa-6412-4c9c-dacf-02db7dac2a72"
      },
      "source": [
        "t3 = torch.tensor([[5., 6], \n",
        "                   [7, 8], \n",
        "                   [9, 10]])\n",
        "\n",
        "# Create a tensor with a fixed value for every element\n",
        "t6 = torch.full((3, 2), 42)\n",
        "# Concatenate two tensors with compatible shapes\n",
        "t7 = torch.cat((t3, t6),axis = 1 )\n",
        "# Compute the sin of each element\n",
        "t8 = torchs(t7.co)\n",
        "# Change the shape of a tensor\n",
        "t9 = t8.reshape(3, 2, 2)\n",
        "print(t3)\n",
        "print(t6)\n",
        "print(t7)\n",
        "print(t8)\n",
        "print(t9)"
      ],
      "execution_count": null,
      "outputs": [
        {
          "output_type": "stream",
          "text": [
            "tensor([[ 5.,  6.],\n",
            "        [ 7.,  8.],\n",
            "        [ 9., 10.]])\n",
            "tensor([[42, 42],\n",
            "        [42, 42],\n",
            "        [42, 42]])\n",
            "tensor([[ 5.,  6., 42., 42.],\n",
            "        [ 7.,  8., 42., 42.],\n",
            "        [ 9., 10., 42., 42.]])\n",
            "tensor([[ 0.2837,  0.9602, -0.4000, -0.4000],\n",
            "        [ 0.7539, -0.1455, -0.4000, -0.4000],\n",
            "        [-0.9111, -0.8391, -0.4000, -0.4000]])\n",
            "tensor([[[ 0.2837,  0.9602],\n",
            "         [-0.4000, -0.4000]],\n",
            "\n",
            "        [[ 0.7539, -0.1455],\n",
            "         [-0.4000, -0.4000]],\n",
            "\n",
            "        [[-0.9111, -0.8391],\n",
            "         [-0.4000, -0.4000]]])\n"
          ],
          "name": "stdout"
        }
      ]
    },
    {
      "cell_type": "markdown",
      "metadata": {
        "id": "BbntyHwhpKD8"
      },
      "source": [
        "# numpy, tensor "
      ]
    },
    {
      "cell_type": "code",
      "metadata": {
        "colab": {
          "base_uri": "https://localhost:8080/"
        },
        "id": "3fAN412anIr4",
        "outputId": "bf89ca96-c38e-4b0f-bbcc-5f1829515508"
      },
      "source": [
        "import numpy as np\n",
        "a_np= np.array([ [1,2,3], [4,5,6],[7,8,9]])\n",
        "print(a_np)\n",
        "print(type(a_np))\n",
        "\n",
        "a_tensor = torch.from_numpy(a_np)\n",
        "print(a_tensor)\n",
        "print(type(a_tensor))\n",
        "a_tensor = a_tensor + 1\n",
        "\n",
        "b = a_tensor.numpy()\n",
        "print(type(b))\n",
        "print(b)\n"
      ],
      "execution_count": null,
      "outputs": [
        {
          "output_type": "stream",
          "text": [
            "[[1 2 3]\n",
            " [4 5 6]\n",
            " [7 8 9]]\n",
            "<class 'numpy.ndarray'>\n",
            "tensor([[1, 2, 3],\n",
            "        [4, 5, 6],\n",
            "        [7, 8, 9]])\n",
            "<class 'torch.Tensor'>\n",
            "<class 'numpy.ndarray'>\n",
            "[[ 2  3  4]\n",
            " [ 5  6  7]\n",
            " [ 8  9 10]]\n"
          ],
          "name": "stdout"
        }
      ]
    },
    {
      "cell_type": "code",
      "metadata": {
        "id": "vAjeQBzJaB8D"
      },
      "source": [
        "y = np.array([4,5,6,7,8])  # actual output\n",
        "ypred = np.array([3,2,3,1,3])  # predicted output\n",
        "loss = ypred - y\n",
        "print(loss)\n",
        "( np.square(ypred - y ) ).sum() / 5"
      ],
      "execution_count": null,
      "outputs": []
    },
    {
      "cell_type": "markdown",
      "metadata": {
        "id": "DgfF3j1VtPLH"
      },
      "source": [
        "The interoperability between PyTorch and Numpy is essential because most datasets you'll work with will likely be read and preprocessed as Numpy arrays."
      ]
    },
    {
      "cell_type": "markdown",
      "metadata": {
        "id": "Oz32cRzmth_0"
      },
      "source": [
        "# gradient descent"
      ]
    },
    {
      "cell_type": "markdown",
      "metadata": {
        "id": "cHMqaGKpuCgR"
      },
      "source": [
        "## Introduction to Linear Regression\n",
        "\n",
        "![linear-regression-training-data](https://i.imgur.com/6Ujttb4.png)\n",
        "\n",
        "In a linear regression model, each target variable is estimated to be a weighted sum of the input variables, offset by some constant, known as a bias :\n",
        "\n",
        "```\n",
        "yield_apple  = w11 * temp + w12 * rainfall + w13 * humidity + b1\n",
        "yield_orange = w21 * temp + w22 * rainfall + w23 * humidity + b2\n",
        "```\n",
        "\n",
        "Visually, it means that the yield of apples is a linear or planar function of temperature, rainfall and humidity:\n",
        "\n",
        "![linear-regression-graph](https://i.imgur.com/4DJ9f8X.png)"
      ]
    },
    {
      "cell_type": "code",
      "metadata": {
        "colab": {
          "base_uri": "https://localhost:8080/"
        },
        "id": "_IKULSOMuAxa",
        "outputId": "c57e6327-5571-4dcc-fc31-1ef07dccd98c"
      },
      "source": [
        "# Input (temp, rainfall, humidity)\n",
        "inputs = np.array([[73, 67, 43], \n",
        "                   [91, 88, 64], \n",
        "                   [87, 134, 58], \n",
        "                   [102, 43, 37], \n",
        "                   [69, 96, 70]], dtype='float32')\n",
        "# Targets (apples, oranges)\n",
        "targets = np.array([[56, 70], \n",
        "                    [81, 101], \n",
        "                    [119, 133], \n",
        "                    [22, 37], \n",
        "                    [103, 119]], dtype='float32')\n",
        "\n",
        "# Convert inputs and targets to tensors\n",
        "inputs = torch.from_numpy(inputs)\n",
        "targets = torch.from_numpy(targets)\n",
        "print(inputs)\n",
        "print(targets)"
      ],
      "execution_count": null,
      "outputs": [
        {
          "output_type": "stream",
          "text": [
            "tensor([[ 73.,  67.,  43.],\n",
            "        [ 91.,  88.,  64.],\n",
            "        [ 87., 134.,  58.],\n",
            "        [102.,  43.,  37.],\n",
            "        [ 69.,  96.,  70.]])\n",
            "tensor([[ 56.,  70.],\n",
            "        [ 81., 101.],\n",
            "        [119., 133.],\n",
            "        [ 22.,  37.],\n",
            "        [103., 119.]])\n"
          ],
          "name": "stdout"
        }
      ]
    },
    {
      "cell_type": "markdown",
      "metadata": {
        "id": "Qx3e2NKAxwQU"
      },
      "source": [
        "model* is simply a function that performs a matrix multiplication of the `inputs` and the weights `w` (transposed) and adds the bias `b` (replicated for each observation).\n",
        "\n",
        "![matrix-mult](https://i.imgur.com/WGXLFvA.png)"
      ]
    },
    {
      "cell_type": "code",
      "metadata": {
        "colab": {
          "base_uri": "https://localhost:8080/"
        },
        "id": "cNrUKjJYuDsl",
        "outputId": "7e5598f8-7fc8-4758-8d7d-b3e68873f12a"
      },
      "source": [
        "# Weights and biases\n",
        "w = torch.randn(2, 3, requires_grad=True)  # numpy.randn\n",
        "b = torch.randn(2, requires_grad=True)\n",
        "print(w)\n",
        "print(b)\n"
      ],
      "execution_count": null,
      "outputs": [
        {
          "output_type": "stream",
          "text": [
            "tensor([[-1.0206, -2.0182,  0.4082],\n",
            "        [ 0.0131, -0.1685,  0.2656]], requires_grad=True)\n",
            "tensor([-0.2890, -1.2771], requires_grad=True)\n"
          ],
          "name": "stdout"
        }
      ]
    },
    {
      "cell_type": "code",
      "metadata": {
        "id": "opBFyV2SwYo0"
      },
      "source": [
        "# define model\n",
        "def model(x):\n",
        "    return x @ w.t() + b\n"
      ],
      "execution_count": null,
      "outputs": []
    },
    {
      "cell_type": "code",
      "metadata": {
        "colab": {
          "base_uri": "https://localhost:8080/"
        },
        "id": "yD9T-J1ewp_D",
        "outputId": "9586cf95-e835-4706-deb2-cbe6a4d4a732"
      },
      "source": [
        "# Generate predictions\n",
        "preds = model(inputs)\n",
        "print(preds)"
      ],
      "execution_count": null,
      "outputs": [
        {
          "output_type": "stream",
          "text": [
            "tensor([[-1.9246e+02, -1.8944e-01],\n",
            "        [-2.4464e+02,  2.0853e+00],\n",
            "        [-3.3584e+02, -7.3134e+00],\n",
            "        [-1.7607e+02,  2.6427e+00],\n",
            "        [-2.3588e+02,  2.0417e+00]], grad_fn=<AddBackward0>)\n"
          ],
          "name": "stdout"
        }
      ]
    },
    {
      "cell_type": "markdown",
      "metadata": {
        "id": "VF3IS1hRyShM"
      },
      "source": [
        "# Loss function\n",
        "\n",
        "Before we improve our model, we need a way to evaluate how well our model is performing. We can compare the model's predictions with the actual targets using the following method:\n",
        "\n",
        "Calculate the difference between the two matrices (preds and targets).\n",
        " Square all elements of the difference matrix to remove negative values.\n",
        "    Calculate the average of the elements in the resulting matrix.\n",
        "\n",
        "The result is a single number, known as the mean squared error (MSE)."
      ]
    },
    {
      "cell_type": "code",
      "metadata": {
        "id": "4m0jqhuKxX9P"
      },
      "source": [
        "# MSE loss\n",
        "def mse(t1, t2):\n",
        "    diff = t1 - t2\n",
        "    return torch.sum(diff * diff) / diff.numel()\n",
        "# .numel Returns the total number of elements in the  tensor"
      ],
      "execution_count": null,
      "outputs": []
    },
    {
      "cell_type": "code",
      "metadata": {
        "colab": {
          "base_uri": "https://localhost:8080/"
        },
        "id": "JN-q3FIoyfEe",
        "outputId": "87430e19-3714-4aa5-f495-9d6994f57062"
      },
      "source": [
        "# Compute loss\n",
        "loss = mse(preds, targets)\n",
        "print(loss)\n"
      ],
      "execution_count": null,
      "outputs": [
        {
          "output_type": "stream",
          "text": [
            "tensor(57797.6328, grad_fn=<DivBackward0>)\n"
          ],
          "name": "stdout"
        }
      ]
    },
    {
      "cell_type": "markdown",
      "metadata": {
        "id": "ecyt8CLMzcr2"
      },
      "source": [
        "## Compute gradients\n",
        "\n",
        "With PyTorch, we can automatically compute the gradient or derivative of the loss w.r.t. to the weights and biases because they have `requires_grad` set to `True`. We'll see how this is useful in just a moment."
      ]
    },
    {
      "cell_type": "code",
      "metadata": {
        "colab": {
          "base_uri": "https://localhost:8080/"
        },
        "id": "Xth-IeBSyl58",
        "outputId": "c2a71068-112e-4649-8205-72943c58591d"
      },
      "source": [
        "# Compute gradients\n",
        "loss.backward()    # dy/dw and dy/db\n",
        "# Gradients for weights\n",
        "print(w)\n",
        "print(w.grad)"
      ],
      "execution_count": null,
      "outputs": [
        {
          "output_type": "stream",
          "text": [
            "tensor([[-1.0206, -2.0182,  0.4082],\n",
            "        [ 0.0131, -0.1685,  0.2656]], requires_grad=True)\n",
            "tensor([[-26185.3457, -29460.0703, -17791.0156],\n",
            "        [ -7581.3813,  -8982.9092,  -5389.0342]])\n"
          ],
          "name": "stdout"
        }
      ]
    },
    {
      "cell_type": "markdown",
      "metadata": {
        "id": "tN_CChWz0DN7"
      },
      "source": [
        "We can subtract from each weight element a small quantity proportional to the derivative of the loss w.r.t. that element to reduce the loss slightly."
      ]
    },
    {
      "cell_type": "code",
      "metadata": {
        "id": "pwbckuthzuUC"
      },
      "source": [
        "with torch.no_grad():  \n",
        "    w =  w -  w.grad * 1e-5\n",
        "    b -= b.grad * 1e-5\n"
      ],
      "execution_count": null,
      "outputs": []
    },
    {
      "cell_type": "markdown",
      "metadata": {
        "id": "o5e0ci811wm8"
      },
      "source": [
        "We multiply the gradients with a very small number (`10^-5` in this case) to ensure that we don't modify the weights by a very large amount. We want to take a small step in the downhill direction of the gradient, not a giant leap. This number is called the *learning rate* of the algorithm. \n",
        "\n",
        "We use `torch.no_grad` to indicate to PyTorch that we shouldn't track, calculate, or modify gradients while updating the weights and biases."
      ]
    },
    {
      "cell_type": "code",
      "metadata": {
        "colab": {
          "base_uri": "https://localhost:8080/"
        },
        "id": "Lasz6MCB0ftM",
        "outputId": "c6f391fd-37ae-4e8a-eff6-cb244d6e87fb"
      },
      "source": [
        "#  verify that the loss is actually lower\n",
        "preds = model(inputs)\n",
        "loss = mse(preds, targets)\n",
        "print(loss)"
      ],
      "execution_count": null,
      "outputs": [
        {
          "output_type": "stream",
          "text": [
            "tensor(39247.0078, grad_fn=<DivBackward0>)\n"
          ],
          "name": "stdout"
        }
      ]
    },
    {
      "cell_type": "markdown",
      "metadata": {
        "id": "A8V23Bkv1mmW"
      },
      "source": [
        "Before we proceed, we reset the gradients to zero by invoking the `.zero_()` method. We need to do this because PyTorch accumulates gradients. Otherwise, the next time we invoke `.backward` on the loss, the new gradient values are added to the existing gradients, which may lead to unexpected results."
      ]
    },
    {
      "cell_type": "code",
      "metadata": {
        "id": "fbJ5ooiM0lIX"
      },
      "source": [
        "#w.grad.zero_()\n",
        "#b.grad.zero_()\n",
        "w.grad = 0\n",
        "b.grad = 0\n",
        "print(w.grad)\n",
        "print(b.grad)"
      ],
      "execution_count": null,
      "outputs": []
    },
    {
      "cell_type": "code",
      "metadata": {
        "id": "OPTaYAfh2PDK"
      },
      "source": [
        ""
      ],
      "execution_count": null,
      "outputs": []
    },
    {
      "cell_type": "markdown",
      "metadata": {
        "id": "xAipFbapOxtN"
      },
      "source": [
        "# Linear Regression\n"
      ]
    },
    {
      "cell_type": "code",
      "metadata": {
        "id": "CsDpmO5kQ1nK"
      },
      "source": [
        "import torch\n",
        "import numpy as np"
      ],
      "execution_count": null,
      "outputs": []
    },
    {
      "cell_type": "code",
      "metadata": {
        "id": "6IEsrobZO1TZ"
      },
      "source": [
        "# Input (temp, rainfall, humidity)\n",
        "inputs = np.array([[73, 67, 43],\n",
        "                  [91, 88, 64],\n",
        "                  [87, 134, 58],\n",
        "                  [102, 43, 37],\n",
        "                  [69, 96, 70]], dtype='float32')\n",
        "# Targets (apples, oranges)\n",
        "targets = np.array([[56, 70],\n",
        "                   [81, 101],\n",
        "                   [119, 133],\n",
        "                   [22, 37],\n",
        "                   [103, 119]], dtype='float32')\n",
        "\n",
        "# Convert inputs and targets to tensors\n",
        "inputs = torch.from_numpy(inputs)\n",
        "targets = torch.from_numpy(targets)\n",
        "\n"
      ],
      "execution_count": null,
      "outputs": []
    },
    {
      "cell_type": "code",
      "metadata": {
        "id": "NNjGeGvFP2Sk"
      },
      "source": [
        "# initialize Weights and biases\n",
        "w = torch.randn(2, 3, requires_grad=True)\n",
        "b = torch.randn(2, requires_grad=True)\n",
        "\n"
      ],
      "execution_count": null,
      "outputs": []
    },
    {
      "cell_type": "code",
      "metadata": {
        "id": "fCfuYdAJP2ul"
      },
      "source": [
        "#define model\n",
        "def model(x):\n",
        "   return x @ w.t() + b\n",
        "# MSE loss\n",
        "def mse(t1, t2):\n",
        "   diff = t1 - t2\n",
        "   return torch.sum(diff * diff)/diff.numel()\n",
        "\n"
      ],
      "execution_count": null,
      "outputs": []
    },
    {
      "cell_type": "code",
      "metadata": {
        "id": "9c5Mo3UQQ-PS"
      },
      "source": [
        "list1 = []\n",
        "# Train for 100 epochs\n",
        "for i in range(100):\n",
        "    preds = model(inputs)\n",
        "    loss = mse(preds, targets)\n",
        "    list1.append(loss.detach().numpy())\n",
        "    loss.backward()   # calculate gradient\n",
        "    with torch.no_grad():\n",
        "        w -= w.grad * 1e-5\n",
        "        b -= b.grad * 1e-5\n",
        "        w.grad.zero_()\n",
        "        b.grad.zero_()"
      ],
      "execution_count": null,
      "outputs": []
    },
    {
      "cell_type": "code",
      "metadata": {
        "colab": {
          "base_uri": "https://localhost:8080/"
        },
        "id": "wTb5kFv3RHlU",
        "outputId": "39a7ac04-f394-490c-b5bc-b8616f98375b"
      },
      "source": [
        "# Calculate loss\n",
        "preds = model(inputs)\n",
        "loss = mse(preds, targets)\n",
        "print(loss)"
      ],
      "execution_count": null,
      "outputs": [
        {
          "output_type": "stream",
          "text": [
            "tensor(219.8403, grad_fn=<DivBackward0>)\n"
          ],
          "name": "stdout"
        }
      ]
    },
    {
      "cell_type": "code",
      "metadata": {
        "id": "J3_ZG4RDRL5q"
      },
      "source": [
        "import matplotlib.pyplot as plt\n",
        "%matplotlib inline  \n"
      ],
      "execution_count": null,
      "outputs": []
    },
    {
      "cell_type": "code",
      "metadata": {
        "id": "loXJ2cPsSPSW"
      },
      "source": [
        "lss = np.array(list1)"
      ],
      "execution_count": null,
      "outputs": []
    },
    {
      "cell_type": "code",
      "metadata": {
        "colab": {
          "base_uri": "https://localhost:8080/",
          "height": 282
        },
        "id": "m1INNPorSRmv",
        "outputId": "4f7683ec-8185-4bc0-983b-0987c30f5a26"
      },
      "source": [
        "plt.plot(lss) "
      ],
      "execution_count": null,
      "outputs": [
        {
          "output_type": "execute_result",
          "data": {
            "text/plain": [
              "[<matplotlib.lines.Line2D at 0x7f83be152110>]"
            ]
          },
          "metadata": {
            "tags": []
          },
          "execution_count": 140
        },
        {
          "output_type": "display_data",
          "data": {
            "image/png": "[encoded data removed]",
            "text/plain": [
              "<Figure size 432x288 with 1 Axes>"
            ]
          },
          "metadata": {
            "tags": [],
            "needs_background": "light"
          }
        }
      ]
    },
    {
      "cell_type": "code",
      "metadata": {
        "id": "bs1PZVYaSi1J"
      },
      "source": [
        "# Predictions\n",
        "preds"
      ],
      "execution_count": null,
      "outputs": []
    },
    {
      "cell_type": "markdown",
      "metadata": {
        "id": "XDZRc9JoTyjU"
      },
      "source": [
        "# linear regression using pytorch inbuilds"
      ]
    },
    {
      "cell_type": "code",
      "metadata": {
        "id": "pYrcvCCcS_Yh"
      },
      "source": [
        "# Input (temp, rainfall, humidity)\n",
        "inputs = np.array([[73, 67, 43], \n",
        "                   [91, 88, 64], \n",
        "                   [87, 134, 58], \n",
        "                   [102, 43, 37], \n",
        "                   [69, 96, 70], \n",
        "                   [74, 66, 43], \n",
        "                   [91, 87, 65], \n",
        "                   [88, 134, 59], \n",
        "                   [101, 44, 37], \n",
        "                   [68, 96, 71], \n",
        "                   [73, 66, 44], \n",
        "                   [92, 87, 64], \n",
        "                   [87, 135, 57], \n",
        "                   [103, 43, 36], \n",
        "                   [68, 97, 70]], \n",
        "                  dtype='float32')\n",
        "\n",
        "# Targets (apples, oranges)\n",
        "targets = np.array([[56, 70], \n",
        "                    [81, 101], \n",
        "                    [119, 133], \n",
        "                    [22, 37], \n",
        "                    [103, 119],\n",
        "                    [57, 69], \n",
        "                    [80, 102], \n",
        "                    [118, 132], \n",
        "                    [21, 38], \n",
        "                    [104, 118], \n",
        "                    [57, 69], \n",
        "                    [82, 100], \n",
        "                    [118, 134], \n",
        "                    [20, 38], \n",
        "                    [102, 120]], \n",
        "                   dtype='float32')\n",
        "\n",
        "inputs = torch.from_numpy(inputs)\n",
        "targets = torch.from_numpy(targets)\n"
      ],
      "execution_count": null,
      "outputs": []
    },
    {
      "cell_type": "markdown",
      "metadata": {
        "id": "TYEHGqC0V1FO"
      },
      "source": [
        "allows access to rows from inputs and targets as tuples, and provides standard APIs for working with many different types of datasets in PyTorch."
      ]
    },
    {
      "cell_type": "code",
      "metadata": {
        "id": "wp4uBJFFVmUT"
      },
      "source": [
        "from torch.utils.data import TensorDataset\n",
        "# Define dataset\n",
        "train_ds = TensorDataset(inputs, targets)\n",
        "print(train_ds[0:3])"
      ],
      "execution_count": null,
      "outputs": []
    },
    {
      "cell_type": "code",
      "metadata": {
        "id": "nZQXqffMWDh9"
      },
      "source": [
        ""
      ],
      "execution_count": null,
      "outputs": []
    }
  ]
}